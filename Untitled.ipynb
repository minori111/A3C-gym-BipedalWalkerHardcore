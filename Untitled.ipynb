{
 "cells": [
  {
   "cell_type": "code",
   "execution_count": 2,
   "metadata": {
    "collapsed": false
   },
   "outputs": [
    {
     "name": "stderr",
     "output_type": "stream",
     "text": [
      "[2017-06-03 16:08:56,854] Making new env: MountainCar-v0\n"
     ]
    },
    {
     "name": "stdout",
     "output_type": "stream",
     "text": [
      "[-0.49043742  0.        ]\n",
      "0\n",
      "[-0.49168572 -0.0012483 ]\n",
      "1\n",
      "[-0.49317301 -0.00148728]\n",
      "0\n",
      "[-0.49588816 -0.00271516]\n",
      "1\n",
      "[-0.49881091 -0.00292275]\n",
      "1\n",
      "[-0.5019194  -0.00310849]\n",
      "2\n",
      "[-0.50419037 -0.00227097]\n",
      "0\n",
      "[-0.50760682 -0.00341645]\n",
      "2\n",
      "[-0.51014316 -0.00253634]\n",
      "0\n",
      "[-0.51378039 -0.00363723]\n",
      "0\n",
      "[-0.51849125 -0.00471086]\n",
      "0\n",
      "[-0.52424041 -0.00574916]\n",
      "2\n",
      "[-0.52898477 -0.00474435]\n",
      "1\n",
      "[-0.53368873 -0.00470396]\n",
      "2\n",
      "[-0.53731702 -0.0036283 ]\n",
      "2\n",
      "[-0.53984246 -0.00252544]\n",
      "0\n",
      "[-0.54324612 -0.00340366]\n",
      "1\n",
      "[-0.54650251 -0.00325639]\n",
      "1\n",
      "[-0.54958725 -0.00308475]\n",
      "1\n",
      "[-0.55247728 -0.00289003]\n",
      "1\n",
      "[-0.55515099 -0.00267371]\n",
      "0\n",
      "[-0.55858842 -0.00343742]\n",
      "1\n",
      "[-0.5617639  -0.00317548]\n",
      "0\n",
      "[-0.56565377 -0.00388987]\n",
      "0\n",
      "[-0.57022906 -0.00457529]\n",
      "1\n",
      "[-0.57445577 -0.00422671]\n",
      "2\n",
      "[-0.57730252 -0.00284676]\n",
      "0\n",
      "[-0.58074824 -0.00344572]\n",
      "2\n",
      "[-0.58276743 -0.00201919]\n",
      "0\n",
      "[-0.58534519 -0.00257776]\n",
      "1\n",
      "[-0.58746249 -0.0021173 ]\n",
      "1\n",
      "[-0.58910374 -0.00164125]\n",
      "2\n",
      "[ -5.89256856e-01  -1.53117240e-04]\n",
      "0\n",
      "[-0.58992072 -0.00066386]\n",
      "1\n",
      "[ -5.90090436e-01  -1.69720639e-04]\n",
      "1\n",
      "[ -5.89764770e-01   3.25666239e-04]\n",
      "1\n",
      "[-0.58894611  0.00081866]\n",
      "0\n",
      "[ -5.88640481e-01   3.05630537e-04]\n",
      "2\n",
      "[-0.58685013  0.00179035]\n",
      "0\n",
      "[-0.58558823  0.0012619 ]\n",
      "2\n",
      "[-0.58286409  0.00272414]\n",
      "2\n",
      "[-0.57869779  0.00416629]\n",
      "0\n",
      "[-0.57512013  0.00357766]\n",
      "2\n",
      "[-0.5701576   0.00496253]\n",
      "0\n",
      "[-0.56584701  0.00431059]\n",
      "0\n",
      "[-0.56222041  0.0036266 ]\n",
      "0\n",
      "[-0.5593048   0.00291562]\n",
      "1\n",
      "[-0.5561219  0.0031829]\n",
      "1\n",
      "[-0.55269546  0.00342644]\n",
      "2\n",
      "[-0.54805107  0.00464438]\n",
      "0\n",
      "[-0.54422346  0.00382761]\n",
      "0\n",
      "[-0.54124126  0.0029822 ]\n",
      "1\n",
      "[-0.53812681  0.00311446]\n",
      "0\n",
      "[-0.53590342  0.00222338]\n",
      "1\n",
      "[-0.53358778  0.00231565]\n",
      "2\n",
      "[-0.53019723  0.00339055]\n",
      "2\n",
      "[-0.52575719  0.00444004]\n",
      "0\n",
      "[-0.52230096  0.00345623]\n",
      "1\n",
      "[-0.51885447  0.00344649]\n",
      "1\n",
      "[-0.51544356  0.00341091]\n",
      "1\n",
      "[-0.51209381  0.00334975]\n",
      "1\n",
      "[-0.50883033  0.00326348]\n",
      "2\n",
      "[-0.50467757  0.00415276]\n",
      "2\n",
      "[-0.49966665  0.00501092]\n",
      "2\n",
      "[-0.49383506  0.00583159]\n",
      "0\n",
      "[-0.48922641  0.00460865]\n",
      "2\n",
      "[-0.48387509  0.00535132]\n",
      "1\n",
      "[-0.478821   0.0050541]\n",
      "0\n",
      "[-0.47510172  0.00371927]\n",
      "1\n",
      "[-0.4717449   0.00335682]\n",
      "2\n",
      "[-0.46777541  0.00396949]\n",
      "0\n",
      "[-0.46522265  0.00255277]\n",
      "0\n",
      "[-0.46410547  0.00111718]\n",
      "2\n",
      "[-0.46243212  0.00167335]\n",
      "0\n",
      "[ -4.62214954e-01   2.17165793e-04]\n",
      "0\n",
      "[-0.46345557 -0.00124062]\n",
      "0\n",
      "[-0.46614481 -0.00268925]\n",
      "0\n",
      "[-0.47026283 -0.00411802]\n",
      "0\n",
      "[-0.47577917 -0.00551633]\n",
      "0\n",
      "[-0.48265292 -0.00687375]\n",
      "2\n",
      "[-0.488833   -0.00618008]\n",
      "0\n",
      "[-0.49627334 -0.00744035]\n",
      "2\n",
      "[-0.5029184  -0.00664506]\n",
      "1\n",
      "[-0.50971846 -0.00680006]\n",
      "1\n",
      "[-0.5166226  -0.00690413]\n",
      "1\n",
      "[-0.52357905 -0.00695645]\n",
      "0\n",
      "[-0.53153564 -0.0079566 ]\n",
      "1\n",
      "[-0.53943272 -0.00789708]\n",
      "1\n",
      "[-0.54721109 -0.00777837]\n",
      "1\n",
      "[-0.55481251 -0.00760142]\n",
      "0\n",
      "[-0.56318018 -0.00836766]\n",
      "1\n",
      "[-0.57125167 -0.0080715 ]\n",
      "2\n",
      "[-0.57796699 -0.00671532]\n",
      "0\n",
      "[-0.58527635 -0.00730936]\n",
      "1\n",
      "[-0.59212577 -0.00684942]\n",
      "2\n",
      "[-0.59746485 -0.00533908]\n",
      "0\n",
      "[-0.60325445 -0.0057896 ]\n",
      "2\n",
      "[-0.6074523  -0.00419786]\n",
      "0\n",
      "[-0.61202787 -0.00457557]\n",
      "1\n",
      "[-0.61594797 -0.0039201 ]\n",
      "2\n"
     ]
    }
   ],
   "source": [
    "import gym\n",
    "#env = gym.make('BipedalWalkerHardcore-v2')\n",
    "env = gym.make('MountainCar-v0')\n",
    "\n",
    "#env = gym.wrappers.Monitor(env, 'BipedalWalkerHardcore-v2', force=True)\n",
    "\n",
    "for i_episode in range(1):\n",
    "    observation = env.reset()\n",
    "    for t in range(100):\n",
    "        env.render()\n",
    "        print(observation)\n",
    "        action = env.action_space.sample()\n",
    "        print(action)\n",
    "        observation, reward, done, info = env.step(action)\n",
    "        if done:\n",
    "            print(\"Episode finished after {} timesteps\".format(t+1))\n",
    "            break"
   ]
  },
  {
   "cell_type": "code",
   "execution_count": 3,
   "metadata": {
    "collapsed": false
   },
   "outputs": [
    {
     "name": "stdout",
     "output_type": "stream",
     "text": [
      "Discrete(3)\n",
      "Box(2,)\n"
     ]
    }
   ],
   "source": [
    "print(env.action_space)\n",
    "\n",
    "print(env.observation_space)"
   ]
  },
  {
   "cell_type": "code",
   "execution_count": 4,
   "metadata": {
    "collapsed": false
   },
   "outputs": [
    {
     "name": "stdout",
     "output_type": "stream",
     "text": [
      "[ 0.6   0.07]\n",
      "[-1.2  -0.07]\n"
     ]
    }
   ],
   "source": [
    "print(env.observation_space.high)\n",
    "print(env.observation_space.low)"
   ]
  },
  {
   "cell_type": "code",
   "execution_count": 5,
   "metadata": {
    "collapsed": false
   },
   "outputs": [
    {
     "ename": "AttributeError",
     "evalue": "'Discrete' object has no attribute 'high'",
     "output_type": "error",
     "traceback": [
      "\u001b[0;31m---------------------------------------------------------------------------\u001b[0m",
      "\u001b[0;31mAttributeError\u001b[0m                            Traceback (most recent call last)",
      "\u001b[0;32m<ipython-input-5-af2daa18c481>\u001b[0m in \u001b[0;36m<module>\u001b[0;34m()\u001b[0m\n\u001b[0;32m----> 1\u001b[0;31m \u001b[0mprint\u001b[0m\u001b[0;34m(\u001b[0m\u001b[0menv\u001b[0m\u001b[0;34m.\u001b[0m\u001b[0maction_space\u001b[0m\u001b[0;34m.\u001b[0m\u001b[0mhigh\u001b[0m\u001b[0;34m)\u001b[0m\u001b[0;34m\u001b[0m\u001b[0m\n\u001b[0m\u001b[1;32m      2\u001b[0m \u001b[0mprint\u001b[0m\u001b[0;34m(\u001b[0m\u001b[0menv\u001b[0m\u001b[0;34m.\u001b[0m\u001b[0maction_space\u001b[0m\u001b[0;34m.\u001b[0m\u001b[0mlow\u001b[0m\u001b[0;34m)\u001b[0m\u001b[0;34m\u001b[0m\u001b[0m\n",
      "\u001b[0;31mAttributeError\u001b[0m: 'Discrete' object has no attribute 'high'"
     ]
    }
   ],
   "source": [
    "print(env.action_space.high)\n",
    "print(env.action_space.low)"
   ]
  },
  {
   "cell_type": "code",
   "execution_count": 6,
   "metadata": {
    "collapsed": false
   },
   "outputs": [
    {
     "name": "stdout",
     "output_type": "stream",
     "text": [
      "<class 'gym.spaces.discrete.Discrete'>\n"
     ]
    }
   ],
   "source": [
    "print(type(env.action_space))"
   ]
  },
  {
   "cell_type": "code",
   "execution_count": 7,
   "metadata": {
    "collapsed": false
   },
   "outputs": [
    {
     "name": "stdout",
     "output_type": "stream",
     "text": [
      "(-inf, inf)\n"
     ]
    }
   ],
   "source": [
    "print(env.reward_range)"
   ]
  },
  {
   "cell_type": "code",
   "execution_count": null,
   "metadata": {
    "collapsed": true
   },
   "outputs": [],
   "source": []
  }
 ],
 "metadata": {
  "anaconda-cloud": {},
  "kernelspec": {
   "display_name": "Python 3",
   "language": "python",
   "name": "python3"
  },
  "language_info": {
   "codemirror_mode": {
    "name": "ipython",
    "version": 3
   },
   "file_extension": ".py",
   "mimetype": "text/x-python",
   "name": "python",
   "nbconvert_exporter": "python",
   "pygments_lexer": "ipython3",
   "version": "3.6.0"
  }
 },
 "nbformat": 4,
 "nbformat_minor": 1
}
