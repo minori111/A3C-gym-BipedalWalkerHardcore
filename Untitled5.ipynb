{
 "cells": [
  {
   "cell_type": "code",
   "execution_count": 9,
   "metadata": {
    "collapsed": false
   },
   "outputs": [
    {
     "name": "stderr",
     "output_type": "stream",
     "text": [
      "[2017-06-08 03:38:20,241] Making new env: BipedalWalkerHardcore-v2\n"
     ]
    },
    {
     "name": "stdout",
     "output_type": "stream",
     "text": [
      "Episode finished after 63 timesteps\n",
      "Episode finished after 77 timesteps\n",
      "Episode finished after 91 timesteps\n",
      "Episode finished after 125 timesteps\n",
      "Episode finished after 202 timesteps\n",
      "Episode finished after 224 timesteps\n",
      "Episode finished after 232 timesteps\n",
      "Episode finished after 249 timesteps\n",
      "Episode finished after 261 timesteps\n",
      "Episode finished after 276 timesteps\n",
      "Episode finished after 284 timesteps\n",
      "Episode finished after 312 timesteps\n",
      "Episode finished after 410 timesteps\n",
      "Episode finished after 555 timesteps\n",
      "Episode finished after 568 timesteps\n",
      "Episode finished after 578 timesteps\n",
      "Episode finished after 592 timesteps\n",
      "Episode finished after 622 timesteps\n",
      "Episode finished after 636 timesteps\n",
      "Episode finished after 663 timesteps\n",
      "[ 0.3222479  -0.00441122  0.00472959 -0.03447782 -0.15891969  0.00776841\n",
      " -0.21306847 -0.07727759  0.35951662  0.35908953 -0.00100032  0.01939255\n",
      " -0.01867301  0.34743202  0.3138448   0.31740898  0.32851755  0.34854332\n",
      "  0.38026325  0.42893205  0.50489023  0.63710872  0.82688665  0.96716042]\n"
     ]
    }
   ],
   "source": [
    "import gym\n",
    "import numpy as np\n",
    "env = gym.make('BipedalWalkerHardcore-v2')\n",
    "#env = gym.make('Pendulum-v0')\n",
    "#env = gym.make('MountainCarContinuous-v0')\n",
    "tt = 0\n",
    "r = 0\n",
    "for i_episode in range(20):\n",
    "    observation = env.reset()\n",
    "    while True:\n",
    "        #env.render()\n",
    "        #print(observation)\n",
    "        \n",
    "        action = env.action_space.sample()\n",
    "        #print(action)\n",
    "        for i in range(5):\n",
    "            observation, reward, done, info = env.step(action)\n",
    "            if done:\n",
    "                break\n",
    "            env.render()\n",
    "        #print(reward)\n",
    "        #print(np.max([reward, 0]))\n",
    "        #print(info)\n",
    "        tt += 1\n",
    "        if i_episode == 0 and tt == 1:\n",
    "            observations = np.array(observation)\n",
    "        else:\n",
    "            observations += observation\n",
    "        if done:\n",
    "            print(\"Episode finished after {} timesteps\".format(tt+1))\n",
    "            break\n",
    "print(observations/tt)"
   ]
  },
  {
   "cell_type": "code",
   "execution_count": null,
   "metadata": {
    "collapsed": true
   },
   "outputs": [],
   "source": []
  },
  {
   "cell_type": "code",
   "execution_count": null,
   "metadata": {
    "collapsed": true
   },
   "outputs": [],
   "source": []
  }
 ],
 "metadata": {
  "kernelspec": {
   "display_name": "Python 3",
   "language": "python",
   "name": "python3"
  },
  "language_info": {
   "codemirror_mode": {
    "name": "ipython",
    "version": 3
   },
   "file_extension": ".py",
   "mimetype": "text/x-python",
   "name": "python",
   "nbconvert_exporter": "python",
   "pygments_lexer": "ipython3",
   "version": "3.6.0"
  }
 },
 "nbformat": 4,
 "nbformat_minor": 2
}
