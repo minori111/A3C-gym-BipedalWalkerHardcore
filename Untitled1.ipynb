{
 "cells": [
  {
   "cell_type": "code",
   "execution_count": 2,
   "metadata": {
    "collapsed": false
   },
   "outputs": [],
   "source": [
    "from IPython.display import Image\n",
    "from IPython.display import display\n",
    "import numpy as np\n",
    "import scipy\n",
    "\n",
    "# inline plotting instead of popping out\n",
    "%matplotlib inline\n",
    "\n",
    "# load utility classes/functions that has been taught in previous labs\n",
    "# e.g., plot_decision_regions()\n",
    "import os, sys\n",
    "module_path = os.path.abspath(os.path.join('.'))\n",
    "sys.path.append(module_path)\n",
    "from lib import *"
   ]
  },
  {
   "cell_type": "code",
   "execution_count": 3,
   "metadata": {
    "collapsed": false
   },
   "outputs": [
    {
     "name": "stderr",
     "output_type": "stream",
     "text": [
      "Using Theano backend.\n"
     ]
    }
   ],
   "source": [
    "from keras.models import Sequential\n",
    "from keras.layers import Dense, Activation\n",
    "\n",
    "model = Sequential() \n",
    "model.add(Dense(input_dim=512, output_dim=32))\n",
    "model.add(Activation('relu'))\n",
    "model.add(Dense(output_dim=1))\n",
    "model.add(Activation('sigmoid'))"
   ]
  },
  {
   "cell_type": "code",
   "execution_count": 4,
   "metadata": {
    "collapsed": true
   },
   "outputs": [],
   "source": [
    "model = Sequential([\n",
    "    Dense(input_dim=512, output_dim=32),\n",
    "    Activation('relu'),\n",
    "    Dense(output_dim=1),\n",
    "    Activation('sigmoid'),\n",
    "])"
   ]
  },
  {
   "cell_type": "code",
   "execution_count": 5,
   "metadata": {
    "collapsed": true
   },
   "outputs": [],
   "source": [
    "# for a binary classification problem\n",
    "\n",
    "from keras.optimizers import SGD\n",
    "\n",
    "# instantiate an optimizer with specific parameters\n",
    "sgd = SGD(lr=0.01, decay=1e-6, momentum=0.9)\n",
    "model.compile(optimizer=sgd,\n",
    "              loss='binary_crossentropy',\n",
    "              metrics=['accuracy'])"
   ]
  },
  {
   "cell_type": "code",
   "execution_count": 6,
   "metadata": {
    "collapsed": true
   },
   "outputs": [],
   "source": [
    "# or use default parameters\n",
    "model.compile(optimizer='sgd',\n",
    "              loss='binary_crossentropy',\n",
    "              metrics=['accuracy'])"
   ]
  },
  {
   "cell_type": "code",
   "execution_count": 7,
   "metadata": {
    "collapsed": true
   },
   "outputs": [],
   "source": [
    "def gen_nn(input_dim=512, width=32, depth=2):\n",
    "    model = Sequential()\n",
    "    model.add(Dense(input_dim=input_dim, output_dim=width))\n",
    "    model.add(Activation('relu'))\n",
    "    for k in range(2, depth):\n",
    "        model.add(Dense(output_dim=width))\n",
    "        model.add(Activation('relu'))\n",
    "    model.add(Dense(output_dim=1))\n",
    "    model.add(Activation('sigmoid'))\n",
    "    model.compile(optimizer='sgd',\n",
    "                  loss='binary_crossentropy',\n",
    "                  metrics=['accuracy'])\n",
    "    return model"
   ]
  },
  {
   "cell_type": "code",
   "execution_count": 8,
   "metadata": {
    "collapsed": false
   },
   "outputs": [],
   "source": [
    "from sklearn.datasets import fetch_20newsgroups\n",
    "\n",
    "# we take 2 news groups:\n",
    "# 1) rec : recreational activities (entertainment)\n",
    "# 2) sci : science\n",
    "categories = [\n",
    "    'rec.autos',\n",
    "    'rec.motorcycles',\n",
    "    'rec.sport.baseball',\n",
    "    'rec.sport.hockey',\n",
    "    'sci.crypt',\n",
    "    'sci.electronics',\n",
    "    'sci.med',\n",
    "    'sci.space',\n",
    "]\n",
    "\n",
    "# remove the following context, we only need the content\n",
    "remove = ('headers', 'footers', 'quotes')\n",
    "\n",
    "# after fetching the data\n",
    "# content will store in newsgroups.data\n",
    "# label will store in newsgroups.target\n",
    "newsgroups = fetch_20newsgroups(subset='all', categories=categories,\n",
    "                                     shuffle=True, random_state=0,\n",
    "                                     remove=remove)"
   ]
  },
  {
   "cell_type": "code",
   "execution_count": null,
   "metadata": {
    "collapsed": false
   },
   "outputs": [],
   "source": []
  },
  {
   "cell_type": "code",
   "execution_count": 9,
   "metadata": {
    "collapsed": false
   },
   "outputs": [
    {
     "name": "stdout",
     "output_type": "stream",
     "text": [
      "<class 'sklearn.datasets.base.Bunch'>\n"
     ]
    }
   ],
   "source": [
    "print(type(newsgroups))"
   ]
  },
  {
   "cell_type": "code",
   "execution_count": null,
   "metadata": {
    "collapsed": true
   },
   "outputs": [],
   "source": []
  },
  {
   "cell_type": "code",
   "execution_count": 10,
   "metadata": {
    "collapsed": false
   },
   "outputs": [
    {
     "name": "stdout",
     "output_type": "stream",
     "text": [
      "#Data size: 7931\n",
      "Labels: [0 1 2 3 4 5 6 7]\n"
     ]
    }
   ],
   "source": [
    "print('#Data size: %s' % np.shape(newsgroups.data))\n",
    "print('Labels: %s' % np.unique(newsgroups.target))"
   ]
  },
  {
   "cell_type": "code",
   "execution_count": 11,
   "metadata": {
    "collapsed": true
   },
   "outputs": [],
   "source": [
    "import re\n",
    "from bs4 import BeautifulSoup\n",
    "\n",
    "def preprocessor(text):\n",
    "    # remove HTML tags\n",
    "    text = BeautifulSoup(text, 'html.parser').get_text()\n",
    "    \n",
    "    # regex for matching emoticons, keep emoticons, ex: :), :-P, :-D\n",
    "    r = '(?::|;|=|X)(?:-)?(?:\\)|\\(|D|P)'\n",
    "    emoticons = re.findall(r, text)\n",
    "    text = re.sub(r, '', text)\n",
    "    \n",
    "    # convert to lowercase and append all emoticons behind (with space in between)\n",
    "    # replace('-','') removes nose of emoticons\n",
    "    text = re.sub('[\\W]+', ' ', text.lower()) + ' ' + ' '.join(emoticons).replace('-','')\n",
    "    return text"
   ]
  },
  {
   "cell_type": "code",
   "execution_count": 12,
   "metadata": {
    "collapsed": false
   },
   "outputs": [
    {
     "name": "stdout",
     "output_type": "stream",
     "text": [
      "[nltk_data] Downloading package stopwords to /home/damody/nltk_data...\n",
      "[nltk_data]   Package stopwords is already up-to-date!\n",
      "['car']\n"
     ]
    }
   ],
   "source": [
    "import nltk\n",
    "from nltk.corpus import stopwords\n",
    "from nltk.stem.porter import PorterStemmer\n",
    "\n",
    "nltk.download('stopwords')\n",
    "stop = stopwords.words('english')\n",
    "\n",
    "def tokenizer_stem_nostop(text):\n",
    "    porter = PorterStemmer()\n",
    "    return [porter.stem(w) for w in re.split('\\s+', text.strip()) \\\n",
    "            if w not in stop and re.match('[a-zA-Z]+', w)]\n",
    "\n",
    "print(tokenizer_stem_nostop('car'))\n"
   ]
  },
  {
   "cell_type": "code",
   "execution_count": 13,
   "metadata": {
    "collapsed": false
   },
   "outputs": [],
   "source": [
    "from sklearn.feature_extraction.text import TfidfVectorizer\n",
    "from sklearn.model_selection import train_test_split\n",
    "\n",
    "# for simplicity, we only take 512 features\n",
    "vectorizer = TfidfVectorizer(analyzer='word', ngram_range=(1, 1), max_features=512, sublinear_tf=True, \n",
    "                             max_df=0.5, preprocessor=preprocessor, tokenizer=tokenizer_stem_nostop)\n",
    "\n",
    "X = vectorizer.fit_transform(newsgroups.data).toarray()\n",
    "y = (newsgroups.target > 3).astype(int)\n",
    "\n",
    "X_train, X_test, y_train, y_test = train_test_split(\n",
    "    X, y, test_size=0.25, random_state=0)\n",
    "\n",
    "# the dictionary map from word to feature index\n",
    "dictionary = vectorizer.vocabulary_\n",
    "\n",
    "# construct inverse_dictionary for later use\n",
    "inverse_dictionary = {v: k for k, v in dictionary.items()}"
   ]
  },
  {
   "cell_type": "code",
   "execution_count": 14,
   "metadata": {
    "collapsed": false,
    "scrolled": true
   },
   "outputs": [
    {
     "name": "stdout",
     "output_type": "stream",
     "text": [
      "{'realli': 373, 'tri': 469, 'read': 371, 'post': 346, 'never': 295, 'mention': 274, 'discuss': 120, 'know': 227, 'sound': 427, 'littl': 250, 'say': 397, 'way': 491, 'one': 311, 'make': 262, 'bad': 41, 'car': 68, 'mean': 271, 'think': 457, 'could': 101, 'bit': 53, 'larg': 231, 'enough': 140, 'right': 390, 'may': 269, 'well': 493, 'power': 347, 'need': 292, 'man': 263, 'life': 244, 'form': 166, 'much': 286, 'like': 246, 'peopl': 327, 'take': 448, 'howev': 206, 'mani': 265, 'team': 450, 'appear': 26, 'john': 222, 'fact': 152, 'system': 447, 'ever': 145, 'sinc': 419, 'contact': 95, 'author': 35, 'must': 287, 'stop': 439, 'keep': 224, 'though': 459, 'watch': 489, 'fan': 153, 'want': 488, 'guy': 191, 'normal': 303, 'engin': 139, 'cs': 105, 'ca': 64, 'univers': 477, 'anoth': 21, 'comment': 87, 'would': 505, 'box': 59, 'oper': 313, 'believ': 47, 'even': 144, 'build': 61, 'two': 472, 'small': 422, 'number': 307, 'other': 319, 'work': 503, 'clipper': 82, 'chip': 78, 'phone': 333, 'side': 417, 'record': 377, 'look': 254, 'far': 155, 'see': 404, 'anyth': 24, 'sort': 426, 'thing': 456, 'articl': 31, 'research': 386, 'com': 85, 'sever': 412, 'alreadi': 15, 'come': 86, 'air': 10, 'per': 328, 'organ': 317, 'exist': 149, 'ground': 188, 'best': 48, 'wrong': 507, 'r': 367, 'lot': 256, 'compani': 89, 'us': 479, 'get': 177, 'true': 470, 'current': 106, 'product': 356, 'almost': 14, 'case': 71, 'public': 363, 'provid': 361, 'detail': 115, 'later': 233, 'dod': 124, 'h': 192, 'red': 378, 'bike': 51, 'name': 289, 'agre': 9, 'anyway': 25, 'interest': 217, 'info': 214, 'appreci': 27, 'also': 16, 'use': 480, 'local': 252, 'sure': 446, 'tell': 452, 'instead': 216, 'caus': 72, 'new': 296, 'cours': 103, 'done': 125, 'problem': 353, 'someon': 424, 'ask': 32, 'govern': 186, 'produc': 355, 'effect': 132, 'long': 253, 'live': 251, 'contain': 96, 'someth': 425, 'help': 199, 'noth': 305, 'w': 487, 'group': 189, 'internet': 218, 'b': 39, 'c': 63, 'last': 232, 'model': 281, 'drive': 126, 'speed': 431, 'quit': 366, 'said': 394, 'feel': 156, 'person': 332, 'opinion': 314, 'big': 50, 'x': 508, 'set': 411, 'given': 179, 'period': 331, 'time': 462, 'cancer': 67, 'human': 207, 'free': 169, 'good': 184, 'pick': 334, 'care': 69, 'pass': 323, 'process': 354, 'drug': 127, 'probabl': 352, 'idea': 208, 'chang': 76, 'pretti': 348, 'prevent': 349, 'second': 402, 'better': 49, 'less': 241, 'break': 60, 'within': 499, 'treatment': 468, 'friend': 170, 'april': 28, 'game': 175, 'la': 230, 'although': 17, 'night': 301, 'vs': 486, 'point': 343, 'call': 65, 'play': 339, 'win': 497, 'seri': 409, 'show': 415, 'still': 438, 'went': 494, 'took': 465, 'next': 298, 'involv': 219, 'playoff': 341, 'hit': 201, 'player': 340, 'hockey': 202, 'minut': 279, 'either': 133, 'lead': 236, 'high': 200, 'give': 178, 'shot': 414, 'rule': 392, 'made': 259, 'go': 181, 'final': 159, 'leagu': 237, 'goal': 182, 'differ': 118, 'today': 463, 'let': 242, 'end': 138, 'rate': 369, 'comput': 92, 'scienc': 399, 'u': 474, 'got': 185, 'messag': 275, 'might': 276, 'consid': 94, 'major': 261, 'site': 421, 'includ': 211, 'thought': 460, 'level': 243, 'activ': 2, 'known': 228, 'space': 429, 'star': 434, 'full': 173, 'connect': 93, 'matter': 268, 'light': 245, 'whole': 496, 'base': 42, 'becom': 45, 'whether': 495, 'first': 161, 'etc': 143, 'happen': 194, 'put': 364, 'mile': 277, 'ye': 509, 'alway': 18, 'area': 29, 'place': 337, 'hand': 193, 'away': 38, 'road': 391, 'secur': 403, 'heard': 198, 'seen': 406, 'least': 238, 'open': 312, 'list': 249, 'p': 320, 'support': 445, 'propos': 359, 'line': 248, 'measur': 272, 'great': 187, 'wire': 498, 'els': 135, 'de': 110, 'old': 310, 'price': 350, 'assum': 33, 'low': 257, 'pleas': 342, 'find': 160, 'thank': 455, 'experi': 151, 'especi': 142, 'everi': 146, 'buy': 62, 'question': 365, 'report': 383, 'seem': 405, 'pay': 326, 'three': 461, 'anyon': 23, 'respons': 387, 'order': 316, 'back': 40, 'pitch': 336, 'manag': 264, 'came': 66, 'save': 396, 'refer': 379, 'world': 504, 'al': 11, 'recent': 376, 'doctor': 123, 'rather': 370, 'inform': 215, 'e': 128, 'develop': 116, 'certainli': 74, 'subject': 443, 'without': 500, 'reason': 374, 'address': 5, 'gener': 176, 'infect': 213, 'patient': 325, 'answer': 22, 'start': 435, 'hope': 204, 'top': 466, 'limit': 247, 'week': 492, 'possibl': 345, 'money': 282, 'year': 510, 'mayb': 270, 'season': 401, 'rememb': 381, 'non': 302, 'issu': 220, 'home': 203, 'strong': 440, 'forc': 165, 'note': 304, 'flame': 162, 'goe': 183, 'nhl': 299, 'claim': 81, 'avail': 36, 'front': 171, 'around': 30, 'usual': 482, 'valu': 483, 'real': 372, 'understand': 475, 'mail': 260, 'check': 77, 'stuff': 442, 'email': 136, 'month': 283, 'increas': 212, 'direct': 119, 'send': 408, 'design': 113, 'softwar': 423, 'cost': 100, 'deal': 111, 'found': 167, 'j': 221, 'talk': 449, 'suggest': 444, 'st': 432, 'station': 437, 'news': 297, 'citi': 80, 'project': 358, 'center': 73, 'nice': 300, 'plan': 338, 'day': 108, 'sourc': 428, 'american': 19, 'basebal': 43, 'chanc': 75, 'test': 454, 'allow': 13, 'encrypt': 137, 'key': 225, 'network': 294, 'g': 174, 'version': 485, 'attack': 34, 'head': 196, 'ride': 389, 'water': 490, 'market': 267, 'close': 83, 'vehicl': 484, 'exampl': 147, 'term': 453, 'carri': 70, 'score': 400, 'run': 393, 'mind': 278, 'perhap': 330, 'follow': 163, 'type': 473, 'averag': 37, 'sell': 407, 'unless': 478, 'bodi': 57, 'part': 322, 'hard': 195, 'past': 324, 'nasa': 290, 'shuttl': 416, 'lost': 255, 'mission': 280, 'ago': 8, 'technolog': 451, 'origin': 318, 'except': 148, 'compar': 90, 'devic': 117, 'replac': 382, 'import': 210, 'often': 309, 'yet': 511, 'actual': 3, 'result': 388, 'algorithm': 12, 'expect': 150, 'behind': 46, 'move': 285, 'wonder': 501, 'electron': 134, 'radio': 368, 'n': 288, 'told': 464, 'unit': 476, 'edu': 131, 'continu': 97, 'total': 467, 'similar': 418, 'sci': 398, 'abl': 0, 'write': 506, 'program': 357, 'code': 84, 'machin': 258, 'word': 502, 'control': 98, 'requir': 385, 'standard': 433, 'health': 197, 'diseas': 121, 'cover': 104, 'kind': 226, 'agenc': 7, 'perform': 329, 'guess': 190, 'escrow': 141, 'law': 235, 'k': 223, 'addit': 4, 'turn': 471, 'legal': 240, 'user': 481, 'nation': 291, 'request': 384, 'launch': 234, 'relat': 380, 'medic': 273, 'field': 157, 'state': 436, 'administr': 6, 'coupl': 102, 'complet': 91, 'singl': 420, 'posit': 344, 'orbit': 315, 'earth': 130, 'l': 229, 'mark': 266, 'distribut': 122, 'anonym': 20, 'ftp': 172, 'servic': 410, 'bill': 52, 'specif': 430, 'studi': 441, 'basic': 44, 'file': 158, 'page': 321, 'book': 58, 'copi': 99, 'block': 54, 'earli': 129, 'blue': 55, 'circuit': 79, 'receiv': 375, 'hour': 205, 'privaci': 351, 'four': 168, 'gm': 180, 'data': 107, 'imag': 209, 'short': 413, 'left': 239, 'offic': 308, 'third': 458, 'moon': 284, 'satellit': 395, 'protect': 360, 'defens': 112, 'commun': 88, 'nsa': 306, 'pit': 335, 'bo': 56, 'det': 114, 'access': 1, 'net': 293, 'food': 164, 'faq': 154, 'pt': 362, 'db': 109}\n"
     ]
    }
   ],
   "source": [
    "print(dictionary)"
   ]
  },
  {
   "cell_type": "code",
   "execution_count": 15,
   "metadata": {
    "collapsed": false
   },
   "outputs": [
    {
     "name": "stdout",
     "output_type": "stream",
     "text": [
      "(7931, 512)\n",
      "(5948, 512)\n",
      "512\n",
      "[1 1 0 ..., 0 0 1]\n",
      "[False False  True ..., False  True  True]\n"
     ]
    }
   ],
   "source": [
    "print(X.shape)\n",
    "print(X_train.shape)\n",
    "print(len(dictionary))\n",
    "print(y_train)\n",
    "print(newsgroups.target>3)"
   ]
  },
  {
   "cell_type": "code",
   "execution_count": 16,
   "metadata": {
    "collapsed": false
   },
   "outputs": [
    {
     "name": "stdout",
     "output_type": "stream",
     "text": [
      "CPU times: user 12min 10s, sys: 13.6 s, total: 12min 24s\n",
      "Wall time: 47.8 s\n",
      "\n",
      "Test loss: 0.337\n",
      "Test accuracy: 0.848\n"
     ]
    }
   ],
   "source": [
    "import time\n",
    "\n",
    "batch_size = 32\n",
    "\n",
    "model = gen_nn(input_dim=X_train.shape[1])\n",
    "%time his = model.fit(X_train, y_train, nb_epoch=400, \\\n",
    "                      batch_size=batch_size, \\\n",
    "                      validation_split=0.2, \\\n",
    "                      shuffle=True, verbose=0)\n",
    "# evaluate trained model\n",
    "score = model.evaluate(X_test, y_test, verbose=0)\n",
    "print('\\nTest loss: %.3f' % score[0])\n",
    "print('Test accuracy: %.3f' % score[1])"
   ]
  },
  {
   "cell_type": "code",
   "execution_count": 17,
   "metadata": {
    "collapsed": false
   },
   "outputs": [
    {
     "name": "stdout",
     "output_type": "stream",
     "text": [
      "[0.3368860455516367, 0.84820978321694873]\n",
      "['loss', 'acc']\n"
     ]
    }
   ],
   "source": [
    "print(score)\n",
    "print(model.metrics_names)"
   ]
  },
  {
   "cell_type": "code",
   "execution_count": 18,
   "metadata": {
    "collapsed": false
   },
   "outputs": [
    {
     "data": {
      "image/png": "[encoded data removed]",
      "text/plain": [
       "<matplotlib.figure.Figure at 0x7fefee0481d0>"
      ]
     },
     "metadata": {},
     "output_type": "display_data"
    }
   ],
   "source": [
    "import pylab as plt\n",
    "train_loss = his.history['loss']\n",
    "val_loss = his.history['val_loss']\n",
    "\n",
    "# visualize training history\n",
    "plt.plot(range(1, len(train_loss)+1), train_loss, color='blue', label='Train loss')\n",
    "plt.plot(range(1, len(val_loss)+1), val_loss, color='red', label='Val loss')\n",
    "plt.legend(loc=\"upper right\")\n",
    "plt.xlabel('#Epoch')\n",
    "plt.ylabel('Loss')\n",
    "#plt.savefig('./output/fig-nn-val.png', dpi=300)\n",
    "plt.show()"
   ]
  },
  {
   "cell_type": "code",
   "execution_count": 19,
   "metadata": {
    "collapsed": false
   },
   "outputs": [
    {
     "name": "stdout",
     "output_type": "stream",
     "text": [
      "CPU times: user 3min 35s, sys: 2.95 s, total: 3min 38s\n",
      "Wall time: 14.3 s\n",
      "\n",
      "Test loss: 0.316\n",
      "Test accuracy: 0.851\n"
     ]
    }
   ],
   "source": [
    "model = gen_nn(input_dim=X_train.shape[1])\n",
    "%time his = model.fit(X_train, y_train, \\\n",
    "                      nb_epoch=150, \\\n",
    "                      batch_size=batch_size, \\\n",
    "                      validation_split=0.2, \\\n",
    "                      shuffle=True, verbose=0)\n",
    "# evaluate trained model\n",
    "score = model.evaluate(X_test, y_test, verbose=0)\n",
    "print('\\nTest loss: %.3f' % score[0])\n",
    "print('Test accuracy: %.3f' % score[1])"
   ]
  },
  {
   "cell_type": "code",
   "execution_count": 20,
   "metadata": {
    "collapsed": false
   },
   "outputs": [
    {
     "name": "stdout",
     "output_type": "stream",
     "text": [
      "CPU times: user 4min 9s, sys: 3.23 s, total: 4min 12s\n",
      "Wall time: 16.4 s\n",
      "\n",
      "Test loss: 0.315\n",
      "Test accuracy: 0.850\n"
     ]
    },
    {
     "data": {
      "image/png": "[encoded data removed]",
      "text/plain": [
       "<matplotlib.figure.Figure at 0x7fef64457908>"
      ]
     },
     "metadata": {},
     "output_type": "display_data"
    }
   ],
   "source": [
    "from keras.callbacks import EarlyStopping\n",
    "\n",
    "model = gen_nn(input_dim=X_train.shape[1])\n",
    "\n",
    "# monitor the validation loss\n",
    "# min_delta : minimum change in the monitored quantity to qualify as an improvement\n",
    "# patience : number of epochs with no improvement after which training will be stopped\n",
    "early_stop = EarlyStopping(monitor='val_loss', min_delta=0, patience=20, verbose=0)\n",
    "\n",
    "%time his = model.fit(X_train, y_train, \\\n",
    "                      nb_epoch=1000, \\\n",
    "                      batch_size=batch_size, \\\n",
    "                      validation_split=0.2, \\\n",
    "                      shuffle=True, verbose=0, \\\n",
    "                      callbacks=[early_stop])\n",
    "\n",
    "# evaluate trained model\n",
    "score = model.evaluate(X_test, y_test, verbose=0)\n",
    "print('\\nTest loss: %.3f' % score[0])\n",
    "print('Test accuracy: %.3f' % score[1])\n",
    "\n",
    "train_loss = his.history['loss']\n",
    "val_loss = his.history['val_loss']\n",
    "\n",
    "# visualize training history\n",
    "plt.plot(range(1, len(train_loss)+1), train_loss, color='blue', label='Train loss')\n",
    "plt.plot(range(1, len(val_loss)+1), val_loss, color='red', label='Val loss')\n",
    "plt.xlim(0, len(train_loss))\n",
    "plt.legend(loc=\"upper right\")\n",
    "plt.xlabel('#Epoch')\n",
    "plt.ylabel('Loss')\n",
    "#plt.savefig('./output/fig-nn-val-earlystop.png', dpi=300)\n",
    "plt.show()"
   ]
  },
  {
   "cell_type": "code",
   "execution_count": 21,
   "metadata": {
    "collapsed": false
   },
   "outputs": [
    {
     "name": "stdout",
     "output_type": "stream",
     "text": [
      "hello this is a sanity check  :( ;P\n"
     ]
    }
   ],
   "source": [
    "print(preprocessor('<a href=\"example.com\">Hello, This :-( is a sanity check ;P!</a>'))"
   ]
  },
  {
   "cell_type": "code",
   "execution_count": 22,
   "metadata": {
    "collapsed": true
   },
   "outputs": [],
   "source": [
    "from sklearn.datasets import fetch_20newsgroups\n",
    "\n",
    "# we take 2 news groups:\n",
    "# 1) rec : recreational activities (entertainment)\n",
    "# 2) sci : science\n",
    "categories = [\n",
    "    'rec.autos',\n",
    "    'rec.motorcycles',\n",
    "    'rec.sport.baseball',\n",
    "    'rec.sport.hockey',\n",
    "    'sci.crypt',\n",
    "    'sci.electronics',\n",
    "    'sci.med',\n",
    "    'sci.space',\n",
    "]\n",
    "\n",
    "# remove the following context, we only need the content\n",
    "remove = ('headers', 'footers', 'quotes')\n",
    "\n",
    "# after fetching the data\n",
    "# content will store in newsgroups.data\n",
    "# label will store in newsgroups.target\n",
    "newsgroups = fetch_20newsgroups(subset='all', categories=categories,\n",
    "                                     shuffle=True, random_state=0,\n",
    "                                     remove=remove)"
   ]
  },
  {
   "cell_type": "code",
   "execution_count": 23,
   "metadata": {
    "collapsed": false
   },
   "outputs": [
    {
     "name": "stdout",
     "output_type": "stream",
     "text": [
      "CPU times: user 29.1 s, sys: 16 ms, total: 29.1 s\n",
      "Wall time: 7.78 s\n"
     ]
    }
   ],
   "source": [
    "import gensim\n",
    "# preprocess the text\n",
    "corpus = []\n",
    "for text in newsgroups.data:\n",
    "    corpus.append(tokenizer_stem_nostop(preprocessor(text)))\n",
    "\n",
    "# size : embed dimension\n",
    "# min_count : filter words without min frequency\n",
    "# sg : 0 for CBOW; 1 for skip-gram\n",
    "# negative : how many noise words should be drawn\n",
    "%time model_w2v = gensim.models.Word2Vec(corpus, size=64, min_count=5, sg=1, negative=5, workers=4)"
   ]
  },
  {
   "cell_type": "code",
   "execution_count": 24,
   "metadata": {
    "collapsed": false
   },
   "outputs": [
    {
     "name": "stdout",
     "output_type": "stream",
     "text": [
      "7931\n",
      "False\n"
     ]
    }
   ],
   "source": [
    "print(len(corpus))\n",
    "print('owned' in dictionary)"
   ]
  },
  {
   "cell_type": "code",
   "execution_count": 25,
   "metadata": {
    "collapsed": false
   },
   "outputs": [
    {
     "data": {
      "text/plain": [
       "[('solv', 0.8323744535446167),\n",
       " ('exacerb', 0.7023535370826721),\n",
       " ('haldol', 0.6997308731079102),\n",
       " ('dig', 0.6991411447525024),\n",
       " ('endometriosi', 0.696992039680481),\n",
       " ('mental', 0.6961314678192139),\n",
       " ('particul', 0.6867952346801758),\n",
       " ('fix', 0.6855955123901367),\n",
       " ('sting', 0.6849717497825623),\n",
       " ('synthet', 0.6816039085388184)]"
      ]
     },
     "metadata": {},
     "output_type": "display_data"
    },
    {
     "data": {
      "text/plain": [
       "[('latin', 0.7366776466369629),\n",
       " ('entitl', 0.7281750440597534),\n",
       " ('nativ', 0.712255597114563),\n",
       " ('competit', 0.7095907330513),\n",
       " ('financi', 0.706611156463623),\n",
       " ('born', 0.7047227621078491),\n",
       " ('america', 0.6926026344299316),\n",
       " ('farm', 0.681167483329773),\n",
       " ('affili', 0.6784409284591675),\n",
       " ('nation', 0.6780486106872559)]"
      ]
     },
     "metadata": {},
     "output_type": "display_data"
    }
   ],
   "source": [
    "display(model_w2v.most_similar('problem'))\n",
    "#display(model_w2v.most_similar('baseball'))\n",
    "#display(model_w2v.most_similar('electronic'))\n",
    "display(model_w2v.most_similar('american'))"
   ]
  },
  {
   "cell_type": "code",
   "execution_count": 26,
   "metadata": {
    "collapsed": false
   },
   "outputs": [
    {
     "ename": "KeyError",
     "evalue": "\"word 'europe' not in vocabulary\"",
     "output_type": "error",
     "traceback": [
      "\u001b[0;31m---------------------------------------------------------------------------\u001b[0m",
      "\u001b[0;31mKeyError\u001b[0m                                  Traceback (most recent call last)",
      "\u001b[0;32m<ipython-input-26-00307382e18b>\u001b[0m in \u001b[0;36m<module>\u001b[0;34m()\u001b[0m\n\u001b[0;32m----> 1\u001b[0;31m \u001b[0mdisplay\u001b[0m\u001b[0;34m(\u001b[0m\u001b[0mmodel_w2v\u001b[0m\u001b[0;34m.\u001b[0m\u001b[0mmost_similar\u001b[0m\u001b[0;34m(\u001b[0m\u001b[0mpositive\u001b[0m\u001b[0;34m=\u001b[0m\u001b[0;34m[\u001b[0m\u001b[0;34m'america'\u001b[0m\u001b[0;34m,\u001b[0m \u001b[0;34m'bmw'\u001b[0m\u001b[0;34m]\u001b[0m\u001b[0;34m,\u001b[0m \u001b[0mnegative\u001b[0m\u001b[0;34m=\u001b[0m\u001b[0;34m[\u001b[0m\u001b[0;34m'europe'\u001b[0m\u001b[0;34m]\u001b[0m\u001b[0;34m)\u001b[0m\u001b[0;34m)\u001b[0m\u001b[0;34m\u001b[0m\u001b[0m\n\u001b[0m",
      "\u001b[0;32m/home/damody/anaconda3/lib/python3.6/site-packages/gensim/models/word2vec.py\u001b[0m in \u001b[0;36mmost_similar\u001b[0;34m(self, positive, negative, topn, restrict_vocab, indexer)\u001b[0m\n\u001b[1;32m   1168\u001b[0m \u001b[0;34m\u001b[0m\u001b[0m\n\u001b[1;32m   1169\u001b[0m     \u001b[0;32mdef\u001b[0m \u001b[0mmost_similar\u001b[0m\u001b[0;34m(\u001b[0m\u001b[0mself\u001b[0m\u001b[0;34m,\u001b[0m \u001b[0mpositive\u001b[0m\u001b[0;34m=\u001b[0m\u001b[0;34m[\u001b[0m\u001b[0;34m]\u001b[0m\u001b[0;34m,\u001b[0m \u001b[0mnegative\u001b[0m\u001b[0;34m=\u001b[0m\u001b[0;34m[\u001b[0m\u001b[0;34m]\u001b[0m\u001b[0;34m,\u001b[0m \u001b[0mtopn\u001b[0m\u001b[0;34m=\u001b[0m\u001b[0;36m10\u001b[0m\u001b[0;34m,\u001b[0m \u001b[0mrestrict_vocab\u001b[0m\u001b[0;34m=\u001b[0m\u001b[0;32mNone\u001b[0m\u001b[0;34m,\u001b[0m \u001b[0mindexer\u001b[0m\u001b[0;34m=\u001b[0m\u001b[0;32mNone\u001b[0m\u001b[0;34m)\u001b[0m\u001b[0;34m:\u001b[0m\u001b[0;34m\u001b[0m\u001b[0m\n\u001b[0;32m-> 1170\u001b[0;31m         \u001b[0;32mreturn\u001b[0m \u001b[0mself\u001b[0m\u001b[0;34m.\u001b[0m\u001b[0mwv\u001b[0m\u001b[0;34m.\u001b[0m\u001b[0mmost_similar\u001b[0m\u001b[0;34m(\u001b[0m\u001b[0mpositive\u001b[0m\u001b[0;34m,\u001b[0m \u001b[0mnegative\u001b[0m\u001b[0;34m,\u001b[0m \u001b[0mtopn\u001b[0m\u001b[0;34m,\u001b[0m \u001b[0mrestrict_vocab\u001b[0m\u001b[0;34m,\u001b[0m \u001b[0mindexer\u001b[0m\u001b[0;34m)\u001b[0m\u001b[0;34m\u001b[0m\u001b[0m\n\u001b[0m\u001b[1;32m   1171\u001b[0m \u001b[0;34m\u001b[0m\u001b[0m\n\u001b[1;32m   1172\u001b[0m     \u001b[0;32mdef\u001b[0m \u001b[0mwmdistance\u001b[0m\u001b[0;34m(\u001b[0m\u001b[0mself\u001b[0m\u001b[0;34m,\u001b[0m \u001b[0mdocument1\u001b[0m\u001b[0;34m,\u001b[0m \u001b[0mdocument2\u001b[0m\u001b[0;34m)\u001b[0m\u001b[0;34m:\u001b[0m\u001b[0;34m\u001b[0m\u001b[0m\n",
      "\u001b[0;32m/home/damody/anaconda3/lib/python3.6/site-packages/gensim/models/keyedvectors.py\u001b[0m in \u001b[0;36mmost_similar\u001b[0;34m(self, positive, negative, topn, restrict_vocab, indexer)\u001b[0m\n\u001b[1;32m    318\u001b[0m                 \u001b[0mmean\u001b[0m\u001b[0;34m.\u001b[0m\u001b[0mappend\u001b[0m\u001b[0;34m(\u001b[0m\u001b[0mweight\u001b[0m \u001b[0;34m*\u001b[0m \u001b[0mword\u001b[0m\u001b[0;34m)\u001b[0m\u001b[0;34m\u001b[0m\u001b[0m\n\u001b[1;32m    319\u001b[0m             \u001b[0;32melse\u001b[0m\u001b[0;34m:\u001b[0m\u001b[0;34m\u001b[0m\u001b[0m\n\u001b[0;32m--> 320\u001b[0;31m                 \u001b[0mmean\u001b[0m\u001b[0;34m.\u001b[0m\u001b[0mappend\u001b[0m\u001b[0;34m(\u001b[0m\u001b[0mweight\u001b[0m \u001b[0;34m*\u001b[0m \u001b[0mself\u001b[0m\u001b[0;34m.\u001b[0m\u001b[0mword_vec\u001b[0m\u001b[0;34m(\u001b[0m\u001b[0mword\u001b[0m\u001b[0;34m,\u001b[0m \u001b[0muse_norm\u001b[0m\u001b[0;34m=\u001b[0m\u001b[0;32mTrue\u001b[0m\u001b[0;34m)\u001b[0m\u001b[0;34m)\u001b[0m\u001b[0;34m\u001b[0m\u001b[0m\n\u001b[0m\u001b[1;32m    321\u001b[0m                 \u001b[0;32mif\u001b[0m \u001b[0mword\u001b[0m \u001b[0;32min\u001b[0m \u001b[0mself\u001b[0m\u001b[0;34m.\u001b[0m\u001b[0mvocab\u001b[0m\u001b[0;34m:\u001b[0m\u001b[0;34m\u001b[0m\u001b[0m\n\u001b[1;32m    322\u001b[0m                     \u001b[0mall_words\u001b[0m\u001b[0;34m.\u001b[0m\u001b[0madd\u001b[0m\u001b[0;34m(\u001b[0m\u001b[0mself\u001b[0m\u001b[0;34m.\u001b[0m\u001b[0mvocab\u001b[0m\u001b[0;34m[\u001b[0m\u001b[0mword\u001b[0m\u001b[0;34m]\u001b[0m\u001b[0;34m.\u001b[0m\u001b[0mindex\u001b[0m\u001b[0;34m)\u001b[0m\u001b[0;34m\u001b[0m\u001b[0m\n",
      "\u001b[0;32m/home/damody/anaconda3/lib/python3.6/site-packages/gensim/models/keyedvectors.py\u001b[0m in \u001b[0;36mword_vec\u001b[0;34m(self, word, use_norm)\u001b[0m\n\u001b[1;32m    271\u001b[0m                 \u001b[0;32mreturn\u001b[0m \u001b[0mself\u001b[0m\u001b[0;34m.\u001b[0m\u001b[0msyn0\u001b[0m\u001b[0;34m[\u001b[0m\u001b[0mself\u001b[0m\u001b[0;34m.\u001b[0m\u001b[0mvocab\u001b[0m\u001b[0;34m[\u001b[0m\u001b[0mword\u001b[0m\u001b[0;34m]\u001b[0m\u001b[0;34m.\u001b[0m\u001b[0mindex\u001b[0m\u001b[0;34m]\u001b[0m\u001b[0;34m\u001b[0m\u001b[0m\n\u001b[1;32m    272\u001b[0m         \u001b[0;32melse\u001b[0m\u001b[0;34m:\u001b[0m\u001b[0;34m\u001b[0m\u001b[0m\n\u001b[0;32m--> 273\u001b[0;31m             \u001b[0;32mraise\u001b[0m \u001b[0mKeyError\u001b[0m\u001b[0;34m(\u001b[0m\u001b[0;34m\"word '%s' not in vocabulary\"\u001b[0m \u001b[0;34m%\u001b[0m \u001b[0mword\u001b[0m\u001b[0;34m)\u001b[0m\u001b[0;34m\u001b[0m\u001b[0m\n\u001b[0m\u001b[1;32m    274\u001b[0m \u001b[0;34m\u001b[0m\u001b[0m\n\u001b[1;32m    275\u001b[0m     \u001b[0;32mdef\u001b[0m \u001b[0mmost_similar\u001b[0m\u001b[0;34m(\u001b[0m\u001b[0mself\u001b[0m\u001b[0;34m,\u001b[0m \u001b[0mpositive\u001b[0m\u001b[0;34m=\u001b[0m\u001b[0;34m[\u001b[0m\u001b[0;34m]\u001b[0m\u001b[0;34m,\u001b[0m \u001b[0mnegative\u001b[0m\u001b[0;34m=\u001b[0m\u001b[0;34m[\u001b[0m\u001b[0;34m]\u001b[0m\u001b[0;34m,\u001b[0m \u001b[0mtopn\u001b[0m\u001b[0;34m=\u001b[0m\u001b[0;36m10\u001b[0m\u001b[0;34m,\u001b[0m \u001b[0mrestrict_vocab\u001b[0m\u001b[0;34m=\u001b[0m\u001b[0;32mNone\u001b[0m\u001b[0;34m,\u001b[0m \u001b[0mindexer\u001b[0m\u001b[0;34m=\u001b[0m\u001b[0;32mNone\u001b[0m\u001b[0;34m)\u001b[0m\u001b[0;34m:\u001b[0m\u001b[0;34m\u001b[0m\u001b[0m\n",
      "\u001b[0;31mKeyError\u001b[0m: \"word 'europe' not in vocabulary\""
     ]
    }
   ],
   "source": [
    "display(model_w2v.most_similar(positive=['america', 'bmw'], negative=['europe']))"
   ]
  },
  {
   "cell_type": "code",
   "execution_count": null,
   "metadata": {
    "collapsed": false
   },
   "outputs": [],
   "source": [
    "def tfidf_word2vec_transform(model_w2v, embed_dim, inv_dic_tfidf, score_tfidf):\n",
    "    tfidf_word2vec = np.zeros((score_tfidf.shape[0], embed_dim))\n",
    "    for i in range(score_tfidf.shape[0]):\n",
    "        doc_word2vec = np.zeros(embed_dim)\n",
    "        for j in range(score_tfidf.shape[1]):\n",
    "            doc_word2vec += score_tfidf[i, j] * model_w2v[inv_dic_tfidf[j]]\n",
    "        tfidf_word2vec[i, :] = doc_word2vec\n",
    "    return tfidf_word2vec\n",
    "\n",
    "X_train_w2v = tfidf_word2vec_transform(model_w2v, 64, inverse_dictionary, X_train)\n",
    "X_test_w2v = tfidf_word2vec_transform(model_w2v, 64, inverse_dictionary, X_test)"
   ]
  },
  {
   "cell_type": "code",
   "execution_count": null,
   "metadata": {
    "collapsed": false
   },
   "outputs": [],
   "source": [
    "batch_size = 32\n",
    "\n",
    "model = gen_nn(input_dim=X_train_w2v.shape[1])\n",
    "        \n",
    "%time his = model.fit(X_train_w2v, y_train, \\\n",
    "                      nb_epoch=1000, \\\n",
    "                      batch_size=batch_size, \\\n",
    "                      validation_split=0.2, \\\n",
    "                      shuffle=True, verbose=0, \\\n",
    "                      callbacks=[early_stop])\n",
    "\n",
    "# evaluate trained model\n",
    "score = model.evaluate(X_test_w2v, y_test, verbose=0)\n",
    "print('\\nTest loss: %.3f' % score[0])\n",
    "print('Test accuracy: %.3f' % score[1])\n",
    "train_loss = his.history['loss']\n",
    "val_loss = his.history['val_loss']\n",
    "\n",
    "# visualize training history\n",
    "plt.plot(range(1, len(train_loss)+1), train_loss, color='blue', label='Train loss')\n",
    "plt.plot(range(1, len(val_loss)+1), val_loss, color='red', label='Val loss')\n",
    "plt.xlim(0, len(train_loss))\n",
    "plt.legend(loc=\"upper right\")\n",
    "plt.xlabel('#Epoch')\n",
    "plt.ylabel('Loss')\n",
    "#plt.savefig('./output/fig-nn-w2v-val.png', dpi=300)\n",
    "plt.show()"
   ]
  },
  {
   "cell_type": "code",
   "execution_count": null,
   "metadata": {
    "collapsed": true
   },
   "outputs": [],
   "source": []
  }
 ],
 "metadata": {
  "anaconda-cloud": {},
  "kernelspec": {
   "display_name": "Python 3",
   "language": "python",
   "name": "python3"
  },
  "language_info": {
   "codemirror_mode": {
    "name": "ipython",
    "version": 3
   },
   "file_extension": ".py",
   "mimetype": "text/x-python",
   "name": "python",
   "nbconvert_exporter": "python",
   "pygments_lexer": "ipython3",
   "version": "3.6.0"
  }
 },
 "nbformat": 4,
 "nbformat_minor": 1
}
